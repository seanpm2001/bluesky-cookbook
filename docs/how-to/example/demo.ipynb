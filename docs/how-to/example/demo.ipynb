{
 "cells": [
  {
   "cell_type": "markdown",
   "id": "a2e1600b",
   "metadata": {},
   "source": [
    "# Demo\n",
    "\n",
    "PLACEHOLDER"
   ]
  }
 ],
 "metadata": {
  "kernelspec": {
   "display_name": "Python 3 (ipykernel)",
   "language": "python",
   "name": "python3"
  }
 },
 "nbformat": 4,
 "nbformat_minor": 5
}
