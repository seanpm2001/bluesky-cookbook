{
 "cells": [
  {
   "cell_type": "markdown",
   "id": "c7940849",
   "metadata": {},
   "source": [
    "# Flyscanning Basics\n",
    "\n",
    "TODO"
   ]
  }
 ],
 "metadata": {
  "kernelspec": {
   "display_name": "Python 3 (ipykernel)",
   "language": "python",
   "name": "python3"
  }
 },
 "nbformat": 4,
 "nbformat_minor": 5
}
